{
 "cells": [
  {
   "cell_type": "markdown",
   "metadata": {},
   "source": [
    "# Notebook with package\n",
    "This notebook "
   ]
  },
  {
   "cell_type": "code",
   "execution_count": 1,
   "metadata": {},
   "outputs": [],
   "source": [
    "import os\n",
    "import ccxt\n",
    "from configparser import ConfigParser\n",
    "from binance.client import Client\n",
    "from utils.functions import *"
   ]
  },
  {
   "cell_type": "code",
   "execution_count": 2,
   "metadata": {},
   "outputs": [],
   "source": [
    "CREDENTIALS_PATH = os.path.join(os.path.expanduser('~'), \".binance/credentials\")\n",
    "config = ConfigParser()\n",
    "config.read(CREDENTIALS_PATH)\n",
    "api_key = config.get('trade', 'API_KEY')\n",
    "api_secret  = config.get('trade', 'SECRET_KEY')"
   ]
  },
  {
   "cell_type": "code",
   "execution_count": 3,
   "metadata": {},
   "outputs": [],
   "source": [
    "# Initialize Variables\n",
    "CANDLE_DURATION_IN_MIN = 30\n",
    "\n",
    "RSI_PERIOD = 14\n",
    "RSI_OVERBOUGHT = 55\n",
    "RSI_OVERSOLD = 45\n",
    "\n",
    "CCXT_TICKER_NAME = 'LUNA/USDT'\n",
    "TRADING_TICKER_NAME = 'LUNAUSDT'\n",
    "\n",
    "INVESTMENT_AMOUNT_DOLLARS = 10\n",
    "holding_quantity = 0\n",
    "\n",
    "exchange = ccxt.binance()\n",
    "binance_client = Client(api_key=api_key, api_secret=api_secret)\n",
    "DECIMALS_QUANTITY = check_decimals(TRADING_TICKER_NAME, binance_client)"
   ]
  },
  {
   "cell_type": "code",
   "execution_count": 7,
   "metadata": {},
   "outputs": [
    {
     "name": "stdout",
     "output_type": "stream",
     "text": [
      "MACD Result: WAIT Final Result: WAIT\n",
      "29/04/2022 16:48:09 TRADING RECOMMENDATION: WAIT\n"
     ]
    }
   ],
   "source": [
    "currently_holding = False\n",
    "while 1:\n",
    "    # STEP 1: FETCH THE DATA\n",
    "    ticker_data = fetch_data(exchange, CCXT_TICKER_NAME, CANDLE_DURATION_IN_MIN)\n",
    "    if ticker_data is not None:\n",
    "        # STEP 2: COMPUTE THE TECHNICAL INDICATORS & APPLY THE TRADING STRATEGY\n",
    "        trade_rec_type = get_trade_recommendation(df, RSI_OVERSOLD, RSI_OVERBOUGHT)\n",
    "        print(f'{datetime.now().strftime(\"%d/%m/%Y %H:%M:%S\")} TRADING RECOMMENDATION: {trade_rec_type}')\n",
    "\n",
    "        # STEP 3: EXECUTE THE TRADE\n",
    "        if (trade_rec_type == 'BUY' and not currently_holding) or \\\n",
    "            (trade_rec_type == 'SELL' and currently_holding):\n",
    "            print(f'Placing {trade_rec_type} order')\n",
    "            trade_successful, holding_quantity = execute_trade(binance_client, trade_rec_type, TRADING_TICKER_NAME, INVESTMENT_AMOUNT_DOLLARS, DECIMALS_QUANTITY, holding_quantity)\n",
    "            currently_holding = not currently_holding if trade_successful else currently_holding\n",
    "\n",
    "        time.sleep(CANDLE_DURATION_IN_MIN*60)\n",
    "    else:\n",
    "        print(f'Unable to fetch ticker data - {CCXT_TICKER_NAME}. Retrying!!')\n",
    "        time.sleep(5)\n"
   ]
  }
 ],
 "metadata": {
  "interpreter": {
   "hash": "ed225720166559e7176d3793db16a2fd8d295f725007103b21ac3099d2a89ee8"
  },
  "kernelspec": {
   "display_name": "Python 3.9.7 ('base')",
   "language": "python",
   "name": "python3"
  },
  "language_info": {
   "codemirror_mode": {
    "name": "ipython",
    "version": 3
   },
   "file_extension": ".py",
   "mimetype": "text/x-python",
   "name": "python",
   "nbconvert_exporter": "python",
   "pygments_lexer": "ipython3",
   "version": "3.9.7"
  },
  "orig_nbformat": 4
 },
 "nbformat": 4,
 "nbformat_minor": 2
}
