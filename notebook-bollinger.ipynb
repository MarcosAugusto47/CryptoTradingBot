{
 "cells": [
  {
   "cell_type": "code",
   "execution_count": 1,
   "metadata": {},
   "outputs": [],
   "source": [
    "import os\n",
    "import ccxt\n",
    "import datetime\n",
    "from configparser import ConfigParser\n",
    "from binance.client import Client\n",
    "from utils.functions_bollinger import *"
   ]
  },
  {
   "cell_type": "code",
   "execution_count": 2,
   "metadata": {},
   "outputs": [],
   "source": [
    "CREDENTIALS_PATH = os.path.join(os.path.expanduser('~'), \".binance/credentials\")\n",
    "config = ConfigParser()\n",
    "config.read(CREDENTIALS_PATH)\n",
    "api_key = config.get('trade', 'API_KEY')\n",
    "api_secret  = config.get('trade', 'SECRET_KEY')"
   ]
  },
  {
   "cell_type": "code",
   "execution_count": 3,
   "metadata": {},
   "outputs": [],
   "source": [
    "# Initialize Variables\n",
    "CANDLE_DURATION_IN_MIN = 15\n",
    "\n",
    "RSI_PERIOD = 14\n",
    "RSI_OVERBOUGHT = 55\n",
    "RSI_OVERSOLD = 45\n",
    "\n",
    "CCXT_TICKER_NAME = 'DOGE/USDT'\n",
    "TRADING_TICKER_NAME = 'DOGEUSDT'\n",
    "\n",
    "INVESTMENT_AMOUNT_DOLLARS = 12\n",
    "holding_quantity = 0\n",
    "\n",
    "exchange = ccxt.binance()\n",
    "binance_client = Client(api_key=api_key, api_secret=api_secret)\n",
    "DECIMALS_QUANTITY = check_decimals(TRADING_TICKER_NAME, binance_client)"
   ]
  },
  {
   "cell_type": "markdown",
   "metadata": {},
   "source": [
    "* It is recommend to initialize the bot close to the moment that a candle is closed"
   ]
  },
  {
   "cell_type": "code",
   "execution_count": 4,
   "metadata": {},
   "outputs": [],
   "source": [
    "# currently_holding = False\n",
    "# while 1:\n",
    "#     # STEP 1: FETCH THE CANDLE DATA\n",
    "#     ticker_data = fetch_data(exchange, CCXT_TICKER_NAME, CANDLE_DURATION_IN_MIN)\n",
    "    \n",
    "#     if ticker_data is not None:\n",
    "#         # STEP 2: COMPUTE THE TECHNICAL INDICATORS & APPLY THE TRADING STRATEGY\n",
    "#         trade_rec_type = get_trade_recommendation_MACD(ticker_data)\n",
    "#         print(f'{datetime.now().strftime(\"%d/%m/%Y %H:%M:%S\")} {CCXT_TICKER_NAME} TRADING RECOMMENDATION: {trade_rec_type}')\n",
    "\n",
    "#         # STEP 3: EXECUTE THE BUY OPERATION\n",
    "#         if (trade_rec_type == 'BUY' and not currently_holding):\n",
    "#             print(f'Placing {trade_rec_type} order')\n",
    "#             trade_successful, holding_quantity = execute_trade(binance_client, trade_rec_type, TRADING_TICKER_NAME, INVESTMENT_AMOUNT_DOLLARS, DECIMALS_QUANTITY, holding_quantity)\n",
    "#             currently_holding = not currently_holding if trade_successful else currently_holding\n",
    "#             buy_position = True\n",
    "            \n",
    "#             # CHECK SELL OPERATION\n",
    "#             while buy_position:\n",
    "#                 ticker_data = fetch_data(exchange, CCXT_TICKER_NAME, CANDLE_DURATION_IN_MIN)\n",
    "#                 confirm_sell = confirm_sell_operation(ticker_data, weight = 1)\n",
    "#                 print(confirm_sell)\n",
    "#                 if (confirm_sell == \"SELL\"):\n",
    "#                     print(f'Placing SELL order')\n",
    "#                     trade_successful, holding_quantity = execute_trade(binance_client, confirm_sell, TRADING_TICKER_NAME, INVESTMENT_AMOUNT_DOLLARS, DECIMALS_QUANTITY, holding_quantity)\n",
    "#                     currently_holding = not currently_holding if trade_successful else currently_holding\n",
    "#                     buy_position = not buy_position\n",
    "                \n",
    "#                 time.sleep(15)\n",
    "\n",
    "#         time.sleep(CANDLE_DURATION_IN_MIN*60)\n",
    "#     else:\n",
    "#         print(f'Unable to fetch ticker data - {CCXT_TICKER_NAME}. Retrying!!')\n",
    "#         time.sleep(5)"
   ]
  },
  {
   "cell_type": "code",
   "execution_count": 4,
   "metadata": {},
   "outputs": [
    {
     "name": "stdout",
     "output_type": "stream",
     "text": [
      "01/05/2022 11:00:39 LUNA/USDT TRADING RECOMMENDATION: WAIT\n",
      "01/05/2022 11:00:40 DOT/USDT TRADING RECOMMENDATION: SELL\n",
      "01/05/2022 11:00:40 DOGE/USDT TRADING RECOMMENDATION: WAIT\n",
      "01/05/2022 11:00:42 AVAX/USDT TRADING RECOMMENDATION: WAIT\n",
      "01/05/2022 11:00:44 MATIC/USDT TRADING RECOMMENDATION: WAIT\n",
      "Waiting for next candle...\n",
      "01/05/2022 11:15:45 LUNA/USDT TRADING RECOMMENDATION: WAIT\n",
      "01/05/2022 11:15:46 DOT/USDT TRADING RECOMMENDATION: WAIT\n",
      "01/05/2022 11:15:47 DOGE/USDT TRADING RECOMMENDATION: WAIT\n",
      "01/05/2022 11:15:47 AVAX/USDT TRADING RECOMMENDATION: WAIT\n",
      "01/05/2022 11:15:49 MATIC/USDT TRADING RECOMMENDATION: WAIT\n",
      "Waiting for next candle...\n",
      "01/05/2022 11:30:51 LUNA/USDT TRADING RECOMMENDATION: SELL\n",
      "01/05/2022 11:30:52 DOT/USDT TRADING RECOMMENDATION: WAIT\n",
      "01/05/2022 11:30:52 DOGE/USDT TRADING RECOMMENDATION: WAIT\n",
      "01/05/2022 11:30:53 AVAX/USDT TRADING RECOMMENDATION: WAIT\n",
      "01/05/2022 11:30:54 MATIC/USDT TRADING RECOMMENDATION: WAIT\n",
      "Waiting for next candle...\n",
      "01/05/2022 11:45:56 LUNA/USDT TRADING RECOMMENDATION: WAIT\n",
      "01/05/2022 11:45:57 DOT/USDT TRADING RECOMMENDATION: WAIT\n",
      "01/05/2022 11:45:58 DOGE/USDT TRADING RECOMMENDATION: SELL\n",
      "01/05/2022 11:45:59 AVAX/USDT TRADING RECOMMENDATION: WAIT\n",
      "01/05/2022 11:46:00 MATIC/USDT TRADING RECOMMENDATION: WAIT\n",
      "Waiting for next candle...\n",
      "01/05/2022 12:01:01 LUNA/USDT TRADING RECOMMENDATION: WAIT\n",
      "01/05/2022 12:01:03 DOT/USDT TRADING RECOMMENDATION: WAIT\n",
      "01/05/2022 12:01:04 DOGE/USDT TRADING RECOMMENDATION: WAIT\n",
      "01/05/2022 12:01:06 AVAX/USDT TRADING RECOMMENDATION: WAIT\n",
      "01/05/2022 12:01:07 MATIC/USDT TRADING RECOMMENDATION: WAIT\n",
      "Waiting for next candle...\n",
      "01/05/2022 12:16:08 LUNA/USDT TRADING RECOMMENDATION: WAIT\n",
      "01/05/2022 12:16:09 DOT/USDT TRADING RECOMMENDATION: BUY\n",
      "Placing BUY order\n",
      "PLACING ORDER 01/05/2022 12:16:10: DOTUSDT, BUY, 14.99, 0.8, 1651418170104 \n",
      "ORDER PLACED\n",
      "Waiting operation filling...\n",
      "Waiting operation filling...\n",
      "ORDER EXECUTED!\n",
      "01/05/2022 12:16:31: Last price: 14.99; Weighted Bollinger 1 Sigma:15.006928624564857; Price Loss Limit: 14.87008\n",
      "WAIT\n",
      "01/05/2022 12:17:02: Last price: 15.0; Weighted Bollinger 1 Sigma:15.006928624564857; Price Loss Limit: 14.87008\n",
      "WAIT\n",
      "01/05/2022 12:17:33: Last price: 15.01; Weighted Bollinger 1 Sigma:15.006928624564857; Price Loss Limit: 14.87008\n",
      "SELL\n",
      "Placing SELL order\n",
      "PLACING ORDER 01/05/2022 12:17:33: DOTUSDT, SELL, 15.01, 0.8, 1651418253498 \n",
      "ORDER PLACED\n",
      "Waiting operation filling...\n",
      "ORDER EXECUTED!\n",
      "01/05/2022 12:18:15 DOGE/USDT TRADING RECOMMENDATION: WAIT\n",
      "01/05/2022 12:18:15 AVAX/USDT TRADING RECOMMENDATION: WAIT\n",
      "01/05/2022 12:18:16 MATIC/USDT TRADING RECOMMENDATION: WAIT\n",
      "Waiting for next candle...\n",
      "01/05/2022 12:33:17 LUNA/USDT TRADING RECOMMENDATION: BUY\n",
      "Placing BUY order\n",
      "PLACING ORDER 01/05/2022 12:33:18: LUNAUSDT, BUY, 80.74, 0.14, 1651419198226 \n",
      "ORDER PLACED\n",
      "Waiting operation filling...\n",
      "Waiting operation filling...\n",
      "Waiting operation filling...\n",
      "ORDER EXECUTED!\n",
      "01/05/2022 12:33:50: Last price: 80.78; Weighted Bollinger 1 Sigma:80.27729312133751; Price Loss Limit: 80.09407999999999\n",
      "SELL\n",
      "Placing SELL order\n",
      "PLACING ORDER 01/05/2022 12:33:50: LUNAUSDT, SELL, 80.78, 0.14, 1651419230693 \n",
      "ORDER PLACED\n",
      "Waiting operation filling...\n",
      "ORDER EXECUTED!\n",
      "01/05/2022 12:34:32 DOT/USDT TRADING RECOMMENDATION: WAIT\n",
      "01/05/2022 12:34:34 DOGE/USDT TRADING RECOMMENDATION: BUY\n",
      "Placing BUY order\n",
      "PLACING ORDER 01/05/2022 12:34:34: DOGEUSDT, BUY, 0.1332, 90.0, 1651419274883 \n",
      "ORDER PLACED\n",
      "Waiting operation filling...\n",
      "Waiting operation filling...\n",
      "ORDER EXECUTED!\n",
      "01/05/2022 12:34:56: Last price: 0.1332; Weighted Bollinger 1 Sigma:0.13225165661311877; Price Loss Limit: 0.1321344\n",
      "SELL\n",
      "Placing SELL order\n",
      "PLACING ORDER 01/05/2022 12:34:56: DOGEUSDT, SELL, 0.1332, 90.0, 1651419296873 \n",
      "ORDER PLACED\n",
      "Waiting operation filling...\n",
      "ORDER EXECUTED!\n",
      "01/05/2022 12:35:39 AVAX/USDT TRADING RECOMMENDATION: BUY\n",
      "Placing BUY order\n",
      "PLACING ORDER 01/05/2022 12:35:39: AVAXUSDT, BUY, 59.29, 0.2, 1651419339738 \n",
      "ORDER PLACED\n",
      "Waiting operation filling...\n",
      "Waiting operation filling...\n",
      "Waiting operation filling...\n",
      "Waiting operation filling...\n",
      "Waiting operation filling...\n",
      "Waiting operation filling...\n",
      "Waiting operation filling...\n",
      "ORDER EXECUTED!\n",
      "01/05/2022 12:36:53: Last price: 59.35; Weighted Bollinger 1 Sigma:59.053448432845485; Price Loss Limit: 58.81568\n",
      "SELL\n",
      "Placing SELL order\n",
      "PLACING ORDER 01/05/2022 12:36:53: AVAXUSDT, SELL, 59.35, 0.2, 1651419413465 \n",
      "ORDER PLACED\n",
      "Waiting operation filling...\n",
      "ORDER EXECUTED!\n",
      "01/05/2022 12:37:34 MATIC/USDT TRADING RECOMMENDATION: BUY\n",
      "Placing BUY order\n",
      "PLACING ORDER 01/05/2022 12:37:35: MATICUSDT, BUY, 1.108, 10.8, 1651419455201 \n",
      "ORDER PLACED\n",
      "Waiting operation filling...\n",
      "Waiting operation filling...\n",
      "ORDER EXECUTED!\n",
      "01/05/2022 12:37:56: Last price: 1.108; Weighted Bollinger 1 Sigma:1.094135192021022; Price Loss Limit: 1.0991360000000001\n",
      "SELL\n",
      "Placing SELL order\n",
      "PLACING ORDER 01/05/2022 12:37:57: MATICUSDT, SELL, 1.108, 10.8, 1651419477197 \n",
      "ORDER PLACED\n",
      "Waiting operation filling...\n",
      "ORDER EXECUTED!\n",
      "Waiting for next candle...\n",
      "01/05/2022 12:53:38 LUNA/USDT TRADING RECOMMENDATION: WAIT\n",
      "01/05/2022 12:53:39 DOT/USDT TRADING RECOMMENDATION: WAIT\n",
      "01/05/2022 12:53:40 DOGE/USDT TRADING RECOMMENDATION: WAIT\n",
      "01/05/2022 12:53:41 AVAX/USDT TRADING RECOMMENDATION: WAIT\n",
      "01/05/2022 12:53:42 MATIC/USDT TRADING RECOMMENDATION: WAIT\n",
      "Waiting for next candle...\n",
      "01/05/2022 13:08:43 LUNA/USDT TRADING RECOMMENDATION: WAIT\n",
      "01/05/2022 13:08:44 DOT/USDT TRADING RECOMMENDATION: WAIT\n",
      "01/05/2022 13:08:45 DOGE/USDT TRADING RECOMMENDATION: WAIT\n",
      "01/05/2022 13:08:46 AVAX/USDT TRADING RECOMMENDATION: WAIT\n",
      "01/05/2022 13:08:46 MATIC/USDT TRADING RECOMMENDATION: WAIT\n",
      "Waiting for next candle...\n",
      "01/05/2022 13:23:47 LUNA/USDT TRADING RECOMMENDATION: WAIT\n",
      "01/05/2022 13:23:49 DOT/USDT TRADING RECOMMENDATION: WAIT\n",
      "01/05/2022 13:23:49 DOGE/USDT TRADING RECOMMENDATION: WAIT\n",
      "01/05/2022 13:23:50 AVAX/USDT TRADING RECOMMENDATION: WAIT\n",
      "01/05/2022 13:23:51 MATIC/USDT TRADING RECOMMENDATION: WAIT\n",
      "Waiting for next candle...\n",
      "01/05/2022 13:38:53 LUNA/USDT TRADING RECOMMENDATION: WAIT\n",
      "01/05/2022 13:38:54 DOT/USDT TRADING RECOMMENDATION: WAIT\n",
      "01/05/2022 13:38:56 DOGE/USDT TRADING RECOMMENDATION: WAIT\n",
      "01/05/2022 13:38:58 AVAX/USDT TRADING RECOMMENDATION: WAIT\n",
      "01/05/2022 13:38:59 MATIC/USDT TRADING RECOMMENDATION: WAIT\n",
      "Waiting for next candle...\n",
      "01/05/2022 13:54:00 LUNA/USDT TRADING RECOMMENDATION: WAIT\n",
      "01/05/2022 13:54:02 DOT/USDT TRADING RECOMMENDATION: WAIT\n",
      "01/05/2022 13:54:03 DOGE/USDT TRADING RECOMMENDATION: WAIT\n",
      "01/05/2022 13:54:04 AVAX/USDT TRADING RECOMMENDATION: WAIT\n",
      "01/05/2022 13:54:06 MATIC/USDT TRADING RECOMMENDATION: WAIT\n",
      "Waiting for next candle...\n",
      "01/05/2022 14:09:07 LUNA/USDT TRADING RECOMMENDATION: WAIT\n",
      "01/05/2022 14:09:08 DOT/USDT TRADING RECOMMENDATION: WAIT\n",
      "01/05/2022 14:09:09 DOGE/USDT TRADING RECOMMENDATION: WAIT\n",
      "01/05/2022 14:09:11 AVAX/USDT TRADING RECOMMENDATION: WAIT\n",
      "01/05/2022 14:09:12 MATIC/USDT TRADING RECOMMENDATION: WAIT\n",
      "Waiting for next candle...\n",
      "01/05/2022 14:24:13 LUNA/USDT TRADING RECOMMENDATION: WAIT\n",
      "01/05/2022 14:24:14 DOT/USDT TRADING RECOMMENDATION: WAIT\n",
      "01/05/2022 14:24:14 DOGE/USDT TRADING RECOMMENDATION: WAIT\n",
      "01/05/2022 14:24:15 AVAX/USDT TRADING RECOMMENDATION: WAIT\n",
      "01/05/2022 14:24:17 MATIC/USDT TRADING RECOMMENDATION: WAIT\n",
      "Waiting for next candle...\n",
      "01/05/2022 14:39:19 LUNA/USDT TRADING RECOMMENDATION: WAIT\n",
      "01/05/2022 14:39:19 DOT/USDT TRADING RECOMMENDATION: WAIT\n",
      "01/05/2022 14:39:20 DOGE/USDT TRADING RECOMMENDATION: WAIT\n",
      "01/05/2022 14:39:21 AVAX/USDT TRADING RECOMMENDATION: WAIT\n",
      "01/05/2022 14:39:22 MATIC/USDT TRADING RECOMMENDATION: WAIT\n",
      "Waiting for next candle...\n",
      "01/05/2022 14:54:24 LUNA/USDT TRADING RECOMMENDATION: WAIT\n",
      "01/05/2022 14:54:27 DOT/USDT TRADING RECOMMENDATION: WAIT\n",
      "01/05/2022 14:54:28 DOGE/USDT TRADING RECOMMENDATION: WAIT\n",
      "01/05/2022 14:54:29 AVAX/USDT TRADING RECOMMENDATION: WAIT\n",
      "01/05/2022 14:54:30 MATIC/USDT TRADING RECOMMENDATION: WAIT\n",
      "Waiting for next candle...\n",
      "01/05/2022 15:09:31 LUNA/USDT TRADING RECOMMENDATION: WAIT\n",
      "01/05/2022 15:09:32 DOT/USDT TRADING RECOMMENDATION: WAIT\n",
      "01/05/2022 15:09:33 DOGE/USDT TRADING RECOMMENDATION: SELL\n",
      "01/05/2022 15:09:35 AVAX/USDT TRADING RECOMMENDATION: WAIT\n",
      "01/05/2022 15:09:36 MATIC/USDT TRADING RECOMMENDATION: WAIT\n",
      "Waiting for next candle...\n",
      "01/05/2022 15:24:38 LUNA/USDT TRADING RECOMMENDATION: WAIT\n",
      "01/05/2022 15:24:39 DOT/USDT TRADING RECOMMENDATION: WAIT\n",
      "01/05/2022 15:24:42 DOGE/USDT TRADING RECOMMENDATION: WAIT\n",
      "01/05/2022 15:24:44 AVAX/USDT TRADING RECOMMENDATION: SELL\n",
      "01/05/2022 15:24:45 MATIC/USDT TRADING RECOMMENDATION: SELL\n",
      "Waiting for next candle...\n",
      "01/05/2022 15:39:46 LUNA/USDT TRADING RECOMMENDATION: WAIT\n",
      "01/05/2022 15:39:48 DOT/USDT TRADING RECOMMENDATION: SELL\n",
      "01/05/2022 15:39:50 DOGE/USDT TRADING RECOMMENDATION: WAIT\n",
      "01/05/2022 15:39:51 AVAX/USDT TRADING RECOMMENDATION: WAIT\n",
      "01/05/2022 15:39:53 MATIC/USDT TRADING RECOMMENDATION: WAIT\n",
      "Waiting for next candle...\n",
      "01/05/2022 15:54:54 LUNA/USDT TRADING RECOMMENDATION: SELL\n",
      "01/05/2022 15:54:55 DOT/USDT TRADING RECOMMENDATION: WAIT\n",
      "01/05/2022 15:54:56 DOGE/USDT TRADING RECOMMENDATION: WAIT\n",
      "01/05/2022 15:54:56 AVAX/USDT TRADING RECOMMENDATION: WAIT\n",
      "01/05/2022 15:54:57 MATIC/USDT TRADING RECOMMENDATION: WAIT\n",
      "Waiting for next candle...\n",
      "01/05/2022 16:09:58 LUNA/USDT TRADING RECOMMENDATION: WAIT\n",
      "01/05/2022 16:09:59 DOT/USDT TRADING RECOMMENDATION: WAIT\n",
      "01/05/2022 16:10:00 DOGE/USDT TRADING RECOMMENDATION: WAIT\n",
      "01/05/2022 16:10:01 AVAX/USDT TRADING RECOMMENDATION: WAIT\n",
      "01/05/2022 16:10:02 MATIC/USDT TRADING RECOMMENDATION: WAIT\n",
      "Waiting for next candle...\n"
     ]
    }
   ],
   "source": [
    "CCXT_TICKER_NAME = ['LUNA/USDT', 'DOT/USDT', 'DOGE/USDT', 'AVAX/USDT', 'MATIC/USDT']\n",
    "TRADING_TICKER_NAME = ['LUNAUSDT', 'DOTUSDT', 'DOGEUSDT', 'AVAXUSDT', 'MATICUSDT']\n",
    "\n",
    "currently_holding = False\n",
    "while 1:\n",
    "    for ccxt_ticker_name, trading_ticker_name in zip(CCXT_TICKER_NAME, TRADING_TICKER_NAME):\n",
    "        # STEP 1: FETCH THE CANDLE DATA\n",
    "        ticker_data = fetch_data(exchange, ccxt_ticker_name, CANDLE_DURATION_IN_MIN)\n",
    "        decimals_quantity = check_decimals(trading_ticker_name, binance_client)\n",
    "        \n",
    "        if ticker_data is not None:\n",
    "            # STEP 2: COMPUTE THE TECHNICAL INDICATORS & APPLY THE TRADING STRATEGY\n",
    "            trade_rec_type = get_trade_recommendation_MACD(ticker_data)\n",
    "            print(f'{datetime.now().strftime(\"%d/%m/%Y %H:%M:%S\")} {ccxt_ticker_name} TRADING RECOMMENDATION: {trade_rec_type}')\n",
    "\n",
    "            # STEP 3: EXECUTE THE BUY OPERATION\n",
    "            if (trade_rec_type == 'BUY' and not currently_holding):\n",
    "                print(f'Placing {trade_rec_type} order')\n",
    "                trade_successful, holding_quantity, order_price = execute_trade(binance_client, trade_rec_type, trading_ticker_name, INVESTMENT_AMOUNT_DOLLARS, decimals_quantity, holding_quantity)\n",
    "                currently_holding = not currently_holding if trade_successful else currently_holding\n",
    "                buy_position = True\n",
    "                \n",
    "                # CHECK SELL OPERATION\n",
    "                while buy_position:\n",
    "                    ticker_data = fetch_data(exchange, ccxt_ticker_name, CANDLE_DURATION_IN_MIN)\n",
    "                    confirm_sell = confirm_sell_operation(ticker_data, 1, exchange, ccxt_ticker_name, order_price)\n",
    "                    print(confirm_sell)\n",
    "                    if (confirm_sell == \"SELL\"):\n",
    "                        print(f'Placing SELL order')\n",
    "                        trade_successful, holding_quantity, order_price = execute_trade(binance_client, confirm_sell, trading_ticker_name, INVESTMENT_AMOUNT_DOLLARS, decimals_quantity, holding_quantity)\n",
    "                        currently_holding = not currently_holding if trade_successful else currently_holding\n",
    "                        buy_position = not buy_position\n",
    "                    \n",
    "                    time.sleep(30)\n",
    "\n",
    "        else:\n",
    "            print(f'Unable to fetch ticker data - {ccxt_ticker_name}. Retrying!!')\n",
    "            time.sleep(5)\n",
    "\n",
    "    print(\"Waiting for next candle...\")\n",
    "    time.sleep(CANDLE_DURATION_IN_MIN*60)"
   ]
  },
  {
   "cell_type": "code",
   "execution_count": 5,
   "metadata": {},
   "outputs": [
    {
     "data": {
      "text/plain": [
       "0.21"
      ]
     },
     "execution_count": 5,
     "metadata": {},
     "output_type": "execute_result"
    }
   ],
   "source": [
    "holding_quantity"
   ]
  },
  {
   "cell_type": "code",
   "execution_count": 6,
   "metadata": {},
   "outputs": [
    {
     "data": {
      "text/plain": [
       "2"
      ]
     },
     "execution_count": 6,
     "metadata": {},
     "output_type": "execute_result"
    }
   ],
   "source": [
    "check_decimals('AVAXUSDT', binance_client)"
   ]
  },
  {
   "cell_type": "code",
   "execution_count": 7,
   "metadata": {},
   "outputs": [
    {
     "data": {
      "text/plain": [
       "0.20547945205479454"
      ]
     },
     "execution_count": 7,
     "metadata": {},
     "output_type": "execute_result"
    }
   ],
   "source": [
    "12/58.4"
   ]
  },
  {
   "cell_type": "code",
   "execution_count": 4,
   "metadata": {},
   "outputs": [
    {
     "data": {
      "text/plain": [
       "0.21"
      ]
     },
     "execution_count": 4,
     "metadata": {},
     "output_type": "execute_result"
    }
   ],
   "source": [
    "round_up(12/58.4, 2)"
   ]
  },
  {
   "cell_type": "code",
   "execution_count": 9,
   "metadata": {},
   "outputs": [
    {
     "data": {
      "text/plain": [
       "0.2055"
      ]
     },
     "execution_count": 9,
     "metadata": {},
     "output_type": "execute_result"
    }
   ],
   "source": [
    "round_up(12/58.4, 4)"
   ]
  },
  {
   "cell_type": "code",
   "execution_count": 8,
   "metadata": {},
   "outputs": [
    {
     "data": {
      "text/plain": [
       "3.13"
      ]
     },
     "execution_count": 8,
     "metadata": {},
     "output_type": "execute_result"
    }
   ],
   "source": [
    "round(3.129, 2)"
   ]
  },
  {
   "cell_type": "code",
   "execution_count": 5,
   "metadata": {},
   "outputs": [
    {
     "data": {
      "text/plain": [
       "11.954699999999999"
      ]
     },
     "execution_count": 5,
     "metadata": {},
     "output_type": "execute_result"
    }
   ],
   "source": [
    "11.1*1.077"
   ]
  },
  {
   "cell_type": "code",
   "execution_count": 3,
   "metadata": {},
   "outputs": [
    {
     "ename": "NameError",
     "evalue": "name 'holding_quantity' is not defined",
     "output_type": "error",
     "traceback": [
      "\u001b[1;31m---------------------------------------------------------------------------\u001b[0m",
      "\u001b[1;31mNameError\u001b[0m                                 Traceback (most recent call last)",
      "\u001b[1;32mC:\\Users\\MARCOS~1\\AppData\\Local\\Temp/ipykernel_16496/2517823719.py\u001b[0m in \u001b[0;36m<module>\u001b[1;34m\u001b[0m\n\u001b[1;32m----> 1\u001b[1;33m \u001b[0mholding_quantity\u001b[0m\u001b[1;33m\u001b[0m\u001b[1;33m\u001b[0m\u001b[0m\n\u001b[0m",
      "\u001b[1;31mNameError\u001b[0m: name 'holding_quantity' is not defined"
     ]
    }
   ],
   "source": [
    "holding_quantity"
   ]
  }
 ],
 "metadata": {
  "interpreter": {
   "hash": "ed225720166559e7176d3793db16a2fd8d295f725007103b21ac3099d2a89ee8"
  },
  "kernelspec": {
   "display_name": "Python 3.9.7 ('base')",
   "language": "python",
   "name": "python3"
  },
  "language_info": {
   "codemirror_mode": {
    "name": "ipython",
    "version": 3
   },
   "file_extension": ".py",
   "mimetype": "text/x-python",
   "name": "python",
   "nbconvert_exporter": "python",
   "pygments_lexer": "ipython3",
   "version": "3.9.7"
  },
  "orig_nbformat": 4
 },
 "nbformat": 4,
 "nbformat_minor": 2
}
