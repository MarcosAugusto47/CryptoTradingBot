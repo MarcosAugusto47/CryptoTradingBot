{
 "cells": [
  {
   "cell_type": "code",
   "execution_count": 1,
   "metadata": {},
   "outputs": [],
   "source": [
    "import os\n",
    "import ccxt\n",
    "from configparser import ConfigParser\n",
    "from binance.client import Client\n",
    "from utils.functions import *"
   ]
  },
  {
   "cell_type": "code",
   "execution_count": 2,
   "metadata": {},
   "outputs": [],
   "source": [
    "CREDENTIALS_PATH = os.path.join(os.path.expanduser('~'), \".binance/credentials\")\n",
    "config = ConfigParser()\n",
    "config.read(CREDENTIALS_PATH)\n",
    "api_key = config.get('trade', 'API_KEY')\n",
    "api_secret  = config.get('trade', 'SECRET_KEY')"
   ]
  },
  {
   "cell_type": "code",
   "execution_count": 3,
   "metadata": {},
   "outputs": [],
   "source": [
    "# Initialize Variables\n",
    "CANDLE_DURATION_IN_MIN = 30\n",
    "\n",
    "RSI_PERIOD = 14\n",
    "RSI_OVERBOUGHT = 55\n",
    "RSI_OVERSOLD = 45\n",
    "\n",
    "CCXT_TICKER_NAME = 'LUNA/USDT'\n",
    "TRADING_TICKER_NAME = 'LUNAUSDT'\n",
    "\n",
    "INVESTMENT_AMOUNT_DOLLARS = 10\n",
    "HOLDING_QUANTITY = 0\n",
    "\n",
    "exchange = ccxt.binance()\n",
    "binance_client = Client(api_key=api_key, api_secret=api_secret)\n",
    "DECIMALS_QUANTITY = check_decimals(TRADING_TICKER_NAME, binance_client)"
   ]
  },
  {
   "cell_type": "markdown",
   "metadata": {},
   "source": [
    "## Observations:\n",
    "* It is recommend to initialize the bot close to the moment that a candle is closed"
   ]
  },
  {
   "cell_type": "markdown",
   "metadata": {},
   "source": [
    "## Getting the data"
   ]
  },
  {
   "cell_type": "code",
   "execution_count": 4,
   "metadata": {},
   "outputs": [
    {
     "data": {
      "text/html": [
       "<div>\n",
       "<style scoped>\n",
       "    .dataframe tbody tr th:only-of-type {\n",
       "        vertical-align: middle;\n",
       "    }\n",
       "\n",
       "    .dataframe tbody tr th {\n",
       "        vertical-align: top;\n",
       "    }\n",
       "\n",
       "    .dataframe thead th {\n",
       "        text-align: right;\n",
       "    }\n",
       "</style>\n",
       "<table border=\"1\" class=\"dataframe\">\n",
       "  <thead>\n",
       "    <tr style=\"text-align: right;\">\n",
       "      <th></th>\n",
       "      <th>at</th>\n",
       "      <th>open</th>\n",
       "      <th>high</th>\n",
       "      <th>low</th>\n",
       "      <th>close</th>\n",
       "      <th>vol</th>\n",
       "      <th>Date</th>\n",
       "      <th>symbol</th>\n",
       "    </tr>\n",
       "  </thead>\n",
       "  <tbody>\n",
       "    <tr>\n",
       "      <th>0</th>\n",
       "      <td>1650981600000</td>\n",
       "      <td>95.20</td>\n",
       "      <td>95.33</td>\n",
       "      <td>93.71</td>\n",
       "      <td>94.30</td>\n",
       "      <td>185941.79</td>\n",
       "      <td>2022-04-26 14:00:00</td>\n",
       "      <td>LUNA/USDT</td>\n",
       "    </tr>\n",
       "    <tr>\n",
       "      <th>1</th>\n",
       "      <td>1650983400000</td>\n",
       "      <td>94.30</td>\n",
       "      <td>94.47</td>\n",
       "      <td>91.98</td>\n",
       "      <td>92.17</td>\n",
       "      <td>238420.42</td>\n",
       "      <td>2022-04-26 14:30:00</td>\n",
       "      <td>LUNA/USDT</td>\n",
       "    </tr>\n",
       "    <tr>\n",
       "      <th>2</th>\n",
       "      <td>1650985200000</td>\n",
       "      <td>92.16</td>\n",
       "      <td>92.70</td>\n",
       "      <td>91.53</td>\n",
       "      <td>91.83</td>\n",
       "      <td>221436.91</td>\n",
       "      <td>2022-04-26 15:00:00</td>\n",
       "      <td>LUNA/USDT</td>\n",
       "    </tr>\n",
       "    <tr>\n",
       "      <th>3</th>\n",
       "      <td>1650987000000</td>\n",
       "      <td>91.82</td>\n",
       "      <td>91.94</td>\n",
       "      <td>90.09</td>\n",
       "      <td>90.24</td>\n",
       "      <td>180142.31</td>\n",
       "      <td>2022-04-26 15:30:00</td>\n",
       "      <td>LUNA/USDT</td>\n",
       "    </tr>\n",
       "    <tr>\n",
       "      <th>4</th>\n",
       "      <td>1650988800000</td>\n",
       "      <td>90.25</td>\n",
       "      <td>91.40</td>\n",
       "      <td>89.58</td>\n",
       "      <td>89.97</td>\n",
       "      <td>323358.15</td>\n",
       "      <td>2022-04-26 16:00:00</td>\n",
       "      <td>LUNA/USDT</td>\n",
       "    </tr>\n",
       "    <tr>\n",
       "      <th>...</th>\n",
       "      <td>...</td>\n",
       "      <td>...</td>\n",
       "      <td>...</td>\n",
       "      <td>...</td>\n",
       "      <td>...</td>\n",
       "      <td>...</td>\n",
       "      <td>...</td>\n",
       "      <td>...</td>\n",
       "    </tr>\n",
       "    <tr>\n",
       "      <th>94</th>\n",
       "      <td>1651150800000</td>\n",
       "      <td>91.31</td>\n",
       "      <td>91.36</td>\n",
       "      <td>90.57</td>\n",
       "      <td>91.08</td>\n",
       "      <td>90868.43</td>\n",
       "      <td>2022-04-28 13:00:00</td>\n",
       "      <td>LUNA/USDT</td>\n",
       "    </tr>\n",
       "    <tr>\n",
       "      <th>95</th>\n",
       "      <td>1651152600000</td>\n",
       "      <td>91.07</td>\n",
       "      <td>91.31</td>\n",
       "      <td>89.29</td>\n",
       "      <td>89.37</td>\n",
       "      <td>162795.90</td>\n",
       "      <td>2022-04-28 13:30:00</td>\n",
       "      <td>LUNA/USDT</td>\n",
       "    </tr>\n",
       "    <tr>\n",
       "      <th>96</th>\n",
       "      <td>1651154400000</td>\n",
       "      <td>89.37</td>\n",
       "      <td>89.37</td>\n",
       "      <td>88.59</td>\n",
       "      <td>88.67</td>\n",
       "      <td>152543.21</td>\n",
       "      <td>2022-04-28 14:00:00</td>\n",
       "      <td>LUNA/USDT</td>\n",
       "    </tr>\n",
       "    <tr>\n",
       "      <th>97</th>\n",
       "      <td>1651156200000</td>\n",
       "      <td>88.64</td>\n",
       "      <td>88.85</td>\n",
       "      <td>87.95</td>\n",
       "      <td>88.75</td>\n",
       "      <td>130855.32</td>\n",
       "      <td>2022-04-28 14:30:00</td>\n",
       "      <td>LUNA/USDT</td>\n",
       "    </tr>\n",
       "    <tr>\n",
       "      <th>98</th>\n",
       "      <td>1651158000000</td>\n",
       "      <td>88.76</td>\n",
       "      <td>90.85</td>\n",
       "      <td>88.48</td>\n",
       "      <td>88.97</td>\n",
       "      <td>306301.58</td>\n",
       "      <td>2022-04-28 15:00:00</td>\n",
       "      <td>LUNA/USDT</td>\n",
       "    </tr>\n",
       "  </tbody>\n",
       "</table>\n",
       "<p>99 rows × 8 columns</p>\n",
       "</div>"
      ],
      "text/plain": [
       "               at   open   high    low  close        vol                Date  \\\n",
       "0   1650981600000  95.20  95.33  93.71  94.30  185941.79 2022-04-26 14:00:00   \n",
       "1   1650983400000  94.30  94.47  91.98  92.17  238420.42 2022-04-26 14:30:00   \n",
       "2   1650985200000  92.16  92.70  91.53  91.83  221436.91 2022-04-26 15:00:00   \n",
       "3   1650987000000  91.82  91.94  90.09  90.24  180142.31 2022-04-26 15:30:00   \n",
       "4   1650988800000  90.25  91.40  89.58  89.97  323358.15 2022-04-26 16:00:00   \n",
       "..            ...    ...    ...    ...    ...        ...                 ...   \n",
       "94  1651150800000  91.31  91.36  90.57  91.08   90868.43 2022-04-28 13:00:00   \n",
       "95  1651152600000  91.07  91.31  89.29  89.37  162795.90 2022-04-28 13:30:00   \n",
       "96  1651154400000  89.37  89.37  88.59  88.67  152543.21 2022-04-28 14:00:00   \n",
       "97  1651156200000  88.64  88.85  87.95  88.75  130855.32 2022-04-28 14:30:00   \n",
       "98  1651158000000  88.76  90.85  88.48  88.97  306301.58 2022-04-28 15:00:00   \n",
       "\n",
       "       symbol  \n",
       "0   LUNA/USDT  \n",
       "1   LUNA/USDT  \n",
       "2   LUNA/USDT  \n",
       "3   LUNA/USDT  \n",
       "4   LUNA/USDT  \n",
       "..        ...  \n",
       "94  LUNA/USDT  \n",
       "95  LUNA/USDT  \n",
       "96  LUNA/USDT  \n",
       "97  LUNA/USDT  \n",
       "98  LUNA/USDT  \n",
       "\n",
       "[99 rows x 8 columns]"
      ]
     },
     "execution_count": 4,
     "metadata": {},
     "output_type": "execute_result"
    }
   ],
   "source": [
    "df = fetch_data(exchange, CCXT_TICKER_NAME, CANDLE_DURATION_IN_MIN)\n",
    "df"
   ]
  },
  {
   "cell_type": "markdown",
   "metadata": {},
   "source": [
    "## Getting the trade recommendation"
   ]
  },
  {
   "cell_type": "code",
   "execution_count": 5,
   "metadata": {},
   "outputs": [
    {
     "name": "stdout",
     "output_type": "stream",
     "text": [
      "MACD Result: WAIT Final Result: WAIT\n"
     ]
    }
   ],
   "source": [
    "TRAD_REC_TYPE = get_trade_recommendation(df, RSI_OVERSOLD, RSI_OVERBOUGHT)"
   ]
  },
  {
   "cell_type": "markdown",
   "metadata": {},
   "source": [
    "## Executing the trade"
   ]
  },
  {
   "cell_type": "code",
   "execution_count": 6,
   "metadata": {},
   "outputs": [
    {
     "name": "stdout",
     "output_type": "stream",
     "text": [
      "\n",
      "ALERT!!! UNABLE TO COMPLETE ORDER\n"
     ]
    },
    {
     "data": {
      "text/plain": [
       "False"
      ]
     },
     "execution_count": 6,
     "metadata": {},
     "output_type": "execute_result"
    }
   ],
   "source": [
    "execute_trade(binance_client, TRAD_REC_TYPE, TRADING_TICKER_NAME, INVESTMENT_AMOUNT_DOLLARS, DECIMALS_QUANTITY)"
   ]
  },
  {
   "cell_type": "markdown",
   "metadata": {},
   "source": [
    "arrumar questão do currently_holding, criar stop loss, após atingir a alta "
   ]
  },
  {
   "cell_type": "code",
   "execution_count": 7,
   "metadata": {},
   "outputs": [
    {
     "name": "stdout",
     "output_type": "stream",
     "text": [
      "MACD Result: WAIT Final Result: WAIT\n",
      "28/04/2022 12:31:48 TRADING RECOMMENDATION: WAIT\n"
     ]
    }
   ],
   "source": [
    "currently_holding = False\n",
    "while 1:\n",
    "    # STEP 1: FETCH THE DATA\n",
    "    ticker_data = fetch_data(exchange, CCXT_TICKER_NAME, CANDLE_DURATION_IN_MIN)\n",
    "    if ticker_data is not None:\n",
    "        # STEP 2: COMPUTE THE TECHNICAL INDICATORS & APPLY THE TRADING STRATEGY\n",
    "        trade_rec_type = get_trade_recommendation(df, RSI_OVERSOLD, RSI_OVERBOUGHT)\n",
    "        print(f'{datetime.now().strftime(\"%d/%m/%Y %H:%M:%S\")} TRADING RECOMMENDATION: {trade_rec_type}')\n",
    "\n",
    "        # STEP 3: EXECUTE THE TRADE\n",
    "        if (trade_rec_type == 'BUY' and not currently_holding) or \\\n",
    "            (trade_rec_type == 'SELL' and currently_holding):\n",
    "            print(f'Placing {trade_rec_type} order')\n",
    "            trade_successful = execute_trade(binance_client, TRAD_REC_TYPE, TRADING_TICKER_NAME, INVESTMENT_AMOUNT_DOLLARS, DECIMALS_QUANTITY)\n",
    "            currently_holding = not currently_holding if trade_successful else currently_holding\n",
    "\n",
    "        time.sleep(CANDLE_DURATION_IN_MIN*60)\n",
    "    else:\n",
    "        print(f'Unable to fetch ticker data - {CCXT_TICKER_NAME}. Retrying!!')\n",
    "        time.sleep(5)\n"
   ]
  }
 ],
 "metadata": {
  "interpreter": {
   "hash": "ed225720166559e7176d3793db16a2fd8d295f725007103b21ac3099d2a89ee8"
  },
  "kernelspec": {
   "display_name": "Python 3.9.7 ('base')",
   "language": "python",
   "name": "python3"
  },
  "language_info": {
   "codemirror_mode": {
    "name": "ipython",
    "version": 3
   },
   "file_extension": ".py",
   "mimetype": "text/x-python",
   "name": "python",
   "nbconvert_exporter": "python",
   "pygments_lexer": "ipython3",
   "version": "3.9.7"
  },
  "orig_nbformat": 4
 },
 "nbformat": 4,
 "nbformat_minor": 2
}
