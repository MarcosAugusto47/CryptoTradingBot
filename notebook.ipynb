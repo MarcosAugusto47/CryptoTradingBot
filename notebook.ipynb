{
 "cells": [
  {
   "cell_type": "code",
   "execution_count": 1,
   "metadata": {},
   "outputs": [],
   "source": [
    "import os\n",
    "import pandas as pd\n",
    "import numpy as np\n",
    "import time\n",
    "from datetime import datetime\n",
    "import talib\n",
    "import ccxt\n",
    "from configparser import ConfigParser\n",
    "from binance.client import Client\n",
    "from binance.enums import *"
   ]
  },
  {
   "cell_type": "code",
   "execution_count": 2,
   "metadata": {},
   "outputs": [],
   "source": [
    "CREDENTIALS_PATH = os.path.join(os.path.expanduser('~'), \".binance/credentials\")\n",
    "config = ConfigParser()\n",
    "config.read(CREDENTIALS_PATH)\n",
    "api_key = config.get('trade', 'API_KEY')\n",
    "api_secret  = config.get('trade', 'SECRET_KEY')"
   ]
  },
  {
   "cell_type": "code",
   "execution_count": 3,
   "metadata": {},
   "outputs": [],
   "source": [
    "# Initialize Variables\n",
    "CANDLE_DURATION_IN_MIN = 5\n",
    "\n",
    "RSI_PERIOD = 14\n",
    "RSI_OVERBOUGHT = 70\n",
    "RSI_OVERSOLD = 30\n",
    "\n",
    "CCXT_TICKER_NAME = 'DOT/USDT'\n",
    "TRADING_TICKER_NAME = 'DOTUSDT'\n",
    "\n",
    "INVESTMENT_AMOUNT_DOLLARS = 10\n",
    "HOLDING_QUANTITY = 0\n",
    "\n",
    "exchange = ccxt.binance()\n",
    "binance_client = Client(api_key=api_key, api_secret=api_secret)"
   ]
  },
  {
   "cell_type": "code",
   "execution_count": 4,
   "metadata": {},
   "outputs": [
    {
     "data": {
      "text/plain": [
       "93.05"
      ]
     },
     "execution_count": 4,
     "metadata": {},
     "output_type": "execute_result"
    }
   ],
   "source": [
    "df = pd.DataFrame(binance_client.get_all_tickers())\n",
    "current_price = float(df[df.symbol == \"LUNAUSDT\"]['price'])\n",
    "current_price"
   ]
  },
  {
   "cell_type": "code",
   "execution_count": 5,
   "metadata": {},
   "outputs": [],
   "source": [
    "# STEP 1: FETCH THE DATA\n",
    "def fetch_data(ticker):\n",
    "    global exchange\n",
    "    bars,ticker_df = None, None\n",
    "\n",
    "    try:\n",
    "        bars = exchange.fetch_ohlcv(ticker, timeframe=f'{CANDLE_DURATION_IN_MIN}m', limit=100)\n",
    "    except:\n",
    "        print(f\"Error in fetching data from the exchange:{ticker}\")\n",
    "\n",
    "    if bars is not None:\n",
    "        ticker_df = pd.DataFrame(bars[:-1], columns=['at', 'open', 'high', 'low', 'close', 'vol'])\n",
    "        ticker_df['Date'] = pd.to_datetime(ticker_df['at'], unit='ms')\n",
    "        ticker_df['symbol'] = ticker\n",
    "\n",
    "    return ticker_df"
   ]
  },
  {
   "cell_type": "code",
   "execution_count": 6,
   "metadata": {},
   "outputs": [],
   "source": [
    "# STEP 2: COMPUTE THE TECHNICAL INDICATORS & APPLY THE TRADING STRATEGY\n",
    "def get_trade_recommendation(ticker_df):\n",
    "\n",
    "    macd_result = 'WAIT'\n",
    "    final_result = 'WAIT'\n",
    "\n",
    "    # BUY or SELL based on MACD crossover points and the RSI value at that point\n",
    "    macd, signal, hist = talib.MACD(ticker_df['close'], fastperiod = 12, slowperiod = 26, signalperiod = 9)\n",
    "    last_hist = hist.iloc[-1]\n",
    "    prev_hist = hist.iloc[-2]\n",
    "    if not np.isnan(prev_hist) and not np.isnan(last_hist):\n",
    "        # If hist value has changed from negative to positive or vice versa, it indicates a crossover\n",
    "        macd_crossover = (abs(last_hist + prev_hist)) != (abs(last_hist) + abs(prev_hist))\n",
    "        if macd_crossover:\n",
    "            macd_result = 'BUY' if last_hist > 0 else 'SELL'\n",
    "\n",
    "    if macd_result != 'WAIT':\n",
    "        rsi = talib.RSI(ticker_df['close'], timeperiod = 14)\n",
    "        # Consider last 3 RSI values\n",
    "        last_rsi_values = rsi.iloc[-3:]\n",
    "\n",
    "        if (last_rsi_values.min() <= RSI_OVERSOLD):\n",
    "            final_result = 'BUY'\n",
    "        elif (last_rsi_values.max() >= RSI_OVERBOUGHT):\n",
    "            final_result = 'SELL'\n",
    "\n",
    "    return final_result"
   ]
  },
  {
   "cell_type": "code",
   "execution_count": 7,
   "metadata": {},
   "outputs": [],
   "source": [
    "# STEP 3: EXECUTE THE TRADE\n",
    "def execute_trade(trade_rec_type, trading_ticker):\n",
    "    global binance_client, HOLDING_QUANTITY\n",
    "    order_placed = False\n",
    "    side_value = SIDE_BUY if (trade_rec_type == \"BUY\") else SIDE_SELL\n",
    "    try:\n",
    "        df = pd.DataFrame(binance_client.get_all_tickers())\n",
    "        df = df[df.symbol == trading_ticker]\n",
    "        if True:\n",
    "            current_price = float(df['price'])\n",
    "            script_quantity = round(INVESTMENT_AMOUNT_DOLLARS/current_price,5) if trade_rec_type == \"BUY\" else HOLDING_QUANTITY\n",
    "            print(f\"PLACING ORDER {datetime.now().strftime('%d/%m/%Y %H:%M:%S')}: \"\n",
    "                  f\"{trading_ticker}, {side_value}, {current_price}, {script_quantity}, {int(time.time() * 1000)} \")\n",
    "            \n",
    "            ###\n",
    "            order_response = binance_client.create_order(symbol=trading_ticker,\n",
    "                                                         side = side_value,\n",
    "                                                         type=ORDER_TYPE_LIMIT,\n",
    "                                                         timeInForce = TIME_IN_FORCE_GTC,\n",
    "                                                         quantity=script_quantity,\n",
    "                                                         price=str(current_price))\n",
    "            ###\n",
    "            \n",
    "            print(f\"ORDER PLACED\")\n",
    "            HOLDING_QUANTITY = script_quantity if trade_rec_type == \"BUY\" else HOLDING_QUANTITY\n",
    "            order_placed = True\n",
    "\n",
    "    except:\n",
    "        print(f\"\\nALERT!!! UNABLE TO COMPLETE ORDER\")\n",
    "    \n",
    "    return order_placed\n"
   ]
  },
  {
   "cell_type": "code",
   "execution_count": 8,
   "metadata": {},
   "outputs": [],
   "source": [
    "def run_bot_for_ticker(ccxt_ticker, trading_ticker):\n",
    "\n",
    "    currently_holding = False\n",
    "    while 1:\n",
    "        # STEP 1: FETCH THE DATA\n",
    "        ticker_data = fetch_data(ccxt_ticker)\n",
    "        if ticker_data is not None:\n",
    "            # STEP 2: COMPUTE THE TECHNICAL INDICATORS & APPLY THE TRADING STRATEGY\n",
    "            trade_rec_type = get_trade_recommendation(ticker_data)\n",
    "            print(f'{datetime.now().strftime(\"%d/%m/%Y %H:%M:%S\")}  TRADING RECOMMENDATION: {trade_rec_type}')\n",
    "\n",
    "            # STEP 3: EXECUTE THE TRADE\n",
    "            if (trade_rec_type == 'BUY' and not currently_holding) or \\\n",
    "                (trade_rec_type == 'SELL' and currently_holding):\n",
    "                print(f'Placing {trade_rec_type} order')\n",
    "                trade_successful = execute_trade(trade_rec_type,trading_ticker)\n",
    "                currently_holding = not currently_holding if trade_successful else currently_holding\n",
    "\n",
    "            time.sleep(CANDLE_DURATION_IN_MIN*60)\n",
    "        else:\n",
    "            print(f'Unable to fetch ticker data - {ccxt_ticker}. Retrying!!')\n",
    "            time.sleep(5)\n"
   ]
  },
  {
   "cell_type": "code",
   "execution_count": 9,
   "metadata": {},
   "outputs": [
    {
     "name": "stdout",
     "output_type": "stream",
     "text": [
      "22/04/2022 19:44:03  TRADING RECOMMENDATION: WAIT\n"
     ]
    },
    {
     "ename": "KeyboardInterrupt",
     "evalue": "",
     "output_type": "error",
     "traceback": [
      "\u001b[1;31m---------------------------------------------------------------------------\u001b[0m",
      "\u001b[1;31mKeyboardInterrupt\u001b[0m                         Traceback (most recent call last)",
      "\u001b[1;32mC:\\Users\\MARCOS~1\\AppData\\Local\\Temp/ipykernel_1064/3646619565.py\u001b[0m in \u001b[0;36m<module>\u001b[1;34m\u001b[0m\n\u001b[1;32m----> 1\u001b[1;33m \u001b[0mrun_bot_for_ticker\u001b[0m\u001b[1;33m(\u001b[0m\u001b[0mCCXT_TICKER_NAME\u001b[0m\u001b[1;33m,\u001b[0m\u001b[0mTRADING_TICKER_NAME\u001b[0m\u001b[1;33m)\u001b[0m\u001b[1;33m\u001b[0m\u001b[1;33m\u001b[0m\u001b[0m\n\u001b[0m",
      "\u001b[1;32mC:\\Users\\MARCOS~1\\AppData\\Local\\Temp/ipykernel_1064/139825431.py\u001b[0m in \u001b[0;36mrun_bot_for_ticker\u001b[1;34m(ccxt_ticker, trading_ticker)\u001b[0m\n\u001b[0;32m     17\u001b[0m                 \u001b[0mcurrently_holding\u001b[0m \u001b[1;33m=\u001b[0m \u001b[1;32mnot\u001b[0m \u001b[0mcurrently_holding\u001b[0m \u001b[1;32mif\u001b[0m \u001b[0mtrade_successful\u001b[0m \u001b[1;32melse\u001b[0m \u001b[0mcurrently_holding\u001b[0m\u001b[1;33m\u001b[0m\u001b[1;33m\u001b[0m\u001b[0m\n\u001b[0;32m     18\u001b[0m \u001b[1;33m\u001b[0m\u001b[0m\n\u001b[1;32m---> 19\u001b[1;33m             \u001b[0mtime\u001b[0m\u001b[1;33m.\u001b[0m\u001b[0msleep\u001b[0m\u001b[1;33m(\u001b[0m\u001b[0mCANDLE_DURATION_IN_MIN\u001b[0m\u001b[1;33m*\u001b[0m\u001b[1;36m60\u001b[0m\u001b[1;33m)\u001b[0m\u001b[1;33m\u001b[0m\u001b[1;33m\u001b[0m\u001b[0m\n\u001b[0m\u001b[0;32m     20\u001b[0m         \u001b[1;32melse\u001b[0m\u001b[1;33m:\u001b[0m\u001b[1;33m\u001b[0m\u001b[1;33m\u001b[0m\u001b[0m\n\u001b[0;32m     21\u001b[0m             \u001b[0mprint\u001b[0m\u001b[1;33m(\u001b[0m\u001b[1;34mf'Unable to fetch ticker data - {ccxt_ticker}. Retrying!!'\u001b[0m\u001b[1;33m)\u001b[0m\u001b[1;33m\u001b[0m\u001b[1;33m\u001b[0m\u001b[0m\n",
      "\u001b[1;31mKeyboardInterrupt\u001b[0m: "
     ]
    }
   ],
   "source": [
    "run_bot_for_ticker(CCXT_TICKER_NAME,TRADING_TICKER_NAME)"
   ]
  }
 ],
 "metadata": {
  "interpreter": {
   "hash": "ed225720166559e7176d3793db16a2fd8d295f725007103b21ac3099d2a89ee8"
  },
  "kernelspec": {
   "display_name": "Python 3.9.7 ('base')",
   "language": "python",
   "name": "python3"
  },
  "language_info": {
   "codemirror_mode": {
    "name": "ipython",
    "version": 3
   },
   "file_extension": ".py",
   "mimetype": "text/x-python",
   "name": "python",
   "nbconvert_exporter": "python",
   "pygments_lexer": "ipython3",
   "version": "3.9.7"
  },
  "orig_nbformat": 4
 },
 "nbformat": 4,
 "nbformat_minor": 2
}
