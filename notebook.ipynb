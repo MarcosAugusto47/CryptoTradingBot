{
 "cells": [
  {
   "cell_type": "code",
   "execution_count": 1,
   "metadata": {},
   "outputs": [],
   "source": [
    "import os\n",
    "import pandas as pd\n",
    "import numpy as np\n",
    "import time\n",
    "from datetime import datetime\n",
    "import talib\n",
    "import ccxt\n",
    "from configparser import ConfigParser\n",
    "from binance.client import Client\n",
    "from binance.enums import *\n",
    "from utils.helpers import check_decimals, round_up"
   ]
  },
  {
   "cell_type": "code",
   "execution_count": 2,
   "metadata": {},
   "outputs": [],
   "source": [
    "CREDENTIALS_PATH = os.path.join(os.path.expanduser('~'), \".binance/credentials\")\n",
    "config = ConfigParser()\n",
    "config.read(CREDENTIALS_PATH)\n",
    "api_key = config.get('trade', 'API_KEY')\n",
    "api_secret  = config.get('trade', 'SECRET_KEY')"
   ]
  },
  {
   "cell_type": "code",
   "execution_count": 3,
   "metadata": {},
   "outputs": [],
   "source": [
    "# Initialize Variables\n",
    "CANDLE_DURATION_IN_MIN = 30\n",
    "\n",
    "RSI_PERIOD = 14\n",
    "RSI_OVERBOUGHT = 55\n",
    "RSI_OVERSOLD = 45\n",
    "\n",
    "CCXT_TICKER_NAME = 'DOGE/USDT'\n",
    "TRADING_TICKER_NAME = 'DOGEUSDT'\n",
    "\n",
    "INVESTMENT_AMOUNT_DOLLARS = 10\n",
    "HOLDING_QUANTITY = 0\n",
    "\n",
    "exchange = ccxt.binance()\n",
    "binance_client = Client(api_key=api_key, api_secret=api_secret)\n",
    "DECIMALS_QUANTITY = check_decimals(TRADING_TICKER_NAME, binance_client)"
   ]
  },
  {
   "cell_type": "code",
   "execution_count": 4,
   "metadata": {},
   "outputs": [
    {
     "data": {
      "text/plain": [
       "0.11346873936230568"
      ]
     },
     "execution_count": 4,
     "metadata": {},
     "output_type": "execute_result"
    }
   ],
   "source": [
    "10/88.13"
   ]
  },
  {
   "cell_type": "code",
   "execution_count": 5,
   "metadata": {},
   "outputs": [],
   "source": [
    "# df = pd.DataFrame(binance_client.get_all_tickers())\n",
    "# current_price = float(df[df.symbol == \"MANAUSDT\"]['price'])\n",
    "# current_price"
   ]
  },
  {
   "cell_type": "code",
   "execution_count": 6,
   "metadata": {},
   "outputs": [],
   "source": [
    "# STEP 1: FETCH THE DATA\n",
    "def fetch_data(ticker):\n",
    "    global exchange\n",
    "    bars,ticker_df = None, None\n",
    "\n",
    "    try:\n",
    "        bars = exchange.fetch_ohlcv(ticker, timeframe=f'{CANDLE_DURATION_IN_MIN}m', limit=100)\n",
    "    except:\n",
    "        print(f\"Error in fetching data from the exchange:{ticker}\")\n",
    "\n",
    "    if bars is not None:\n",
    "        ticker_df = pd.DataFrame(bars[:-1], columns=['at', 'open', 'high', 'low', 'close', 'vol'])\n",
    "        ticker_df['Date'] = pd.to_datetime(ticker_df['at'], unit='ms')\n",
    "        ticker_df['symbol'] = ticker\n",
    "\n",
    "    return ticker_df"
   ]
  },
  {
   "cell_type": "code",
   "execution_count": 7,
   "metadata": {},
   "outputs": [],
   "source": [
    "# STEP 2: COMPUTE THE TECHNICAL INDICATORS & APPLY THE TRADING STRATEGY\n",
    "def get_trade_recommendation(ticker_df):\n",
    "\n",
    "    macd_result = 'WAIT'\n",
    "    final_result = 'WAIT'\n",
    "\n",
    "    # BUY or SELL based on MACD crossover points and the RSI value at that point\n",
    "    macd, signal, hist = talib.MACD(ticker_df['close'], fastperiod = 12, slowperiod = 26, signalperiod = 9)\n",
    "    last_hist = hist.iloc[-1]\n",
    "    prev_hist = hist.iloc[-2]\n",
    "    if not np.isnan(prev_hist) and not np.isnan(last_hist):\n",
    "        # If hist value has changed from negative to positive or vice versa, it indicates a crossover\n",
    "        macd_crossover = (abs(last_hist + prev_hist)) != (abs(last_hist) + abs(prev_hist))\n",
    "        if macd_crossover:\n",
    "            macd_result = 'BUY' if last_hist > 0 else 'SELL'\n",
    "\n",
    "    if macd_result != 'WAIT':\n",
    "        rsi = talib.RSI(ticker_df['close'], timeperiod = 14)\n",
    "        # Consider last 3 RSI values\n",
    "        last_rsi_values = rsi.iloc[-3:]\n",
    "\n",
    "        if (last_rsi_values.min() <= RSI_OVERSOLD):\n",
    "            final_result = 'BUY'\n",
    "        elif (last_rsi_values.max() >= RSI_OVERBOUGHT):\n",
    "            final_result = 'SELL'\n",
    "    print(\"MACD Result:\", macd_result, \"Final Result:\", final_result)\n",
    "    return final_result if final_result == macd_result else 'WAIT'"
   ]
  },
  {
   "cell_type": "code",
   "execution_count": 8,
   "metadata": {},
   "outputs": [],
   "source": [
    "# STEP 3: EXECUTE THE TRADE\n",
    "def execute_trade(trade_rec_type, trading_ticker):\n",
    "    global binance_client, HOLDING_QUANTITY, DECIMALS_QUANTITY\n",
    "    order_placed = False\n",
    "    side_value = SIDE_BUY if (trade_rec_type == \"BUY\") else SIDE_SELL\n",
    "    try:\n",
    "        df = pd.DataFrame(binance_client.get_all_tickers())\n",
    "        df = df[df.symbol == trading_ticker]\n",
    "        if True:\n",
    "            current_price = float(df['price'])\n",
    "            script_quantity = round_up(INVESTMENT_AMOUNT_DOLLARS/current_price, DECIMALS_QUANTITY) if trade_rec_type == \"BUY\" else HOLDING_QUANTITY\n",
    "            print(f\"PLACING ORDER {datetime.now().strftime('%d/%m/%Y %H:%M:%S')}: \"\n",
    "                  f\"{trading_ticker}, {side_value}, {current_price}, {script_quantity}, {int(time.time() * 1000)} \")\n",
    "            \n",
    "            order_response = binance_client.create_order(symbol=trading_ticker,\n",
    "                                                         side = side_value,\n",
    "                                                         type=ORDER_TYPE_LIMIT,\n",
    "                                                         timeInForce = TIME_IN_FORCE_GTC,\n",
    "                                                         quantity=script_quantity,\n",
    "                                                         price=str(current_price))\n",
    "                        \n",
    "            print(f\"ORDER PLACED\")\n",
    "            HOLDING_QUANTITY = script_quantity if trade_rec_type == \"BUY\" else HOLDING_QUANTITY\n",
    "            order_placed = True\n",
    "\n",
    "    except:\n",
    "        print(f\"\\nALERT!!! UNABLE TO COMPLETE ORDER\")\n",
    "    \n",
    "    return order_placed\n"
   ]
  },
  {
   "cell_type": "code",
   "execution_count": 9,
   "metadata": {},
   "outputs": [],
   "source": [
    "# STEP 3: EXECUTE THE TRADE\n",
    "def execute_trade2(trade_rec_type, trading_ticker):\n",
    "    global binance_client, HOLDING_QUANTITY, DECIMALS_QUANTITY\n",
    "    order_placed = False\n",
    "    side_value = SIDE_BUY if (trade_rec_type == \"BUY\") else SIDE_SELL\n",
    "\n",
    "    df = pd.DataFrame(binance_client.get_all_tickers())\n",
    "    df = df[df.symbol == trading_ticker]\n",
    "    if True:\n",
    "        current_price = float(df['price'])\n",
    "        script_quantity = round_up(INVESTMENT_AMOUNT_DOLLARS/current_price, DECIMALS_QUANTITY) if trade_rec_type == \"BUY\" else HOLDING_QUANTITY\n",
    "        print(f\"PLACING ORDER {datetime.now().strftime('%d/%m/%Y %H:%M:%S')}: \"\n",
    "                f\"{trading_ticker}, {side_value}, {current_price}, {script_quantity}, {int(time.time() * 1000)} \")\n",
    "        \n",
    "        order_response = binance_client.create_order(symbol=trading_ticker,\n",
    "                                                        side = side_value,\n",
    "                                                        type=ORDER_TYPE_LIMIT,\n",
    "                                                        timeInForce = TIME_IN_FORCE_GTC,\n",
    "                                                        quantity=script_quantity,\n",
    "                                                        price=str(current_price))\n",
    "                    \n",
    "        print(f\"ORDER PLACED\")\n",
    "        HOLDING_QUANTITY = script_quantity if trade_rec_type == \"BUY\" else HOLDING_QUANTITY\n",
    "        order_placed = True\n",
    "\n",
    "    return order_placed"
   ]
  },
  {
   "cell_type": "markdown",
   "metadata": {},
   "source": [
    "arrumar questão do currently_holding, criar stop loss, após atingir a alta "
   ]
  },
  {
   "cell_type": "code",
   "execution_count": 10,
   "metadata": {},
   "outputs": [],
   "source": [
    "def run_bot_for_ticker(ccxt_ticker, trading_ticker):\n",
    "\n",
    "    currently_holding = False\n",
    "    while 1:\n",
    "        # STEP 1: FETCH THE DATA\n",
    "        ticker_data = fetch_data(ccxt_ticker)\n",
    "        if ticker_data is not None:\n",
    "            # STEP 2: COMPUTE THE TECHNICAL INDICATORS & APPLY THE TRADING STRATEGY\n",
    "            trade_rec_type = get_trade_recommendation(ticker_data)\n",
    "            print(f'{datetime.now().strftime(\"%d/%m/%Y %H:%M:%S\")} TRADING RECOMMENDATION: {trade_rec_type}')\n",
    "\n",
    "            # STEP 3: EXECUTE THE TRADE\n",
    "            if (trade_rec_type == 'BUY' and not currently_holding) or \\\n",
    "                (trade_rec_type == 'SELL' and currently_holding):\n",
    "                print(f'Placing {trade_rec_type} order')\n",
    "                trade_successful = execute_trade2(trade_rec_type,trading_ticker)\n",
    "                currently_holding = not currently_holding if trade_successful else currently_holding\n",
    "\n",
    "            time.sleep(CANDLE_DURATION_IN_MIN*60)\n",
    "        else:\n",
    "            print(f'Unable to fetch ticker data - {ccxt_ticker}. Retrying!!')\n",
    "            time.sleep(5)\n"
   ]
  },
  {
   "cell_type": "code",
   "execution_count": 11,
   "metadata": {},
   "outputs": [
    {
     "name": "stdout",
     "output_type": "stream",
     "text": [
      "MACD Result: WAIT Final Result: WAIT\n",
      "28/04/2022 12:07:34 TRADING RECOMMENDATION: WAIT\n"
     ]
    }
   ],
   "source": [
    "run_bot_for_ticker(CCXT_TICKER_NAME,TRADING_TICKER_NAME)"
   ]
  },
  {
   "cell_type": "code",
   "execution_count": null,
   "metadata": {},
   "outputs": [],
   "source": [
    "0.11*88.98"
   ]
  },
  {
   "cell_type": "code",
   "execution_count": null,
   "metadata": {},
   "outputs": [],
   "source": [
    "trading_ticker = \"LUNAUSDT\"\n",
    "side_value = SIDE_BUY\n",
    "script_quantity = 0.12\n",
    "current_price = 88.98"
   ]
  },
  {
   "cell_type": "code",
   "execution_count": 15,
   "metadata": {},
   "outputs": [],
   "source": [
    "order_response = binance_client.create_order(symbol=trading_ticker,\n",
    "                                                        side = side_value,\n",
    "                                                        type=ORDER_TYPE_LIMIT,\n",
    "                                                        timeInForce = TIME_IN_FORCE_GTC,\n",
    "                                                        quantity=script_quantity,\n",
    "                                                        price=str(current_price))"
   ]
  },
  {
   "cell_type": "code",
   "execution_count": 28,
   "metadata": {},
   "outputs": [],
   "source": [
    "trading_ticker = 'LUNAUSDT'\n",
    "script_quantity = 0.13\n",
    "current_price = 80.62\n",
    "side_value = SIDE_BUY"
   ]
  },
  {
   "cell_type": "code",
   "execution_count": 12,
   "metadata": {},
   "outputs": [
    {
     "data": {
      "text/plain": [
       "0.1143332293940339"
      ]
     },
     "execution_count": 12,
     "metadata": {},
     "output_type": "execute_result"
    }
   ],
   "source": [
    "11/96.21"
   ]
  },
  {
   "cell_type": "code",
   "execution_count": 13,
   "metadata": {},
   "outputs": [
    {
     "data": {
      "text/plain": [
       "0.10393929944912172"
      ]
     },
     "execution_count": 13,
     "metadata": {},
     "output_type": "execute_result"
    }
   ],
   "source": [
    "10/96.21"
   ]
  },
  {
   "cell_type": "code",
   "execution_count": 20,
   "metadata": {},
   "outputs": [
    {
     "data": {
      "text/plain": [
       "11.5452"
      ]
     },
     "execution_count": 20,
     "metadata": {},
     "output_type": "execute_result"
    }
   ],
   "source": [
    "0.12*96.21"
   ]
  },
  {
   "cell_type": "code",
   "execution_count": 11,
   "metadata": {},
   "outputs": [
    {
     "data": {
      "text/plain": [
       "11.1724"
      ]
     },
     "execution_count": 11,
     "metadata": {},
     "output_type": "execute_result"
    }
   ],
   "source": [
    "0.62*18.02"
   ]
  },
  {
   "cell_type": "code",
   "execution_count": 29,
   "metadata": {},
   "outputs": [],
   "source": [
    "order = binance_client.create_test_order(\n",
    "    symbol=trading_ticker,\n",
    "    side=SIDE_BUY,\n",
    "    type=ORDER_TYPE_LIMIT,\n",
    "    timeInForce=TIME_IN_FORCE_GTC,\n",
    "    quantity=script_quantity,\n",
    "    price=str(current_price))"
   ]
  },
  {
   "cell_type": "code",
   "execution_count": 30,
   "metadata": {},
   "outputs": [],
   "source": [
    "order_response = binance_client.create_order(symbol=trading_ticker,\n",
    "                                                         side = side_value,\n",
    "                                                         type=ORDER_TYPE_LIMIT,\n",
    "                                                         timeInForce = TIME_IN_FORCE_GTC,\n",
    "                                                         quantity=script_quantity,\n",
    "                                                         price=str(current_price))"
   ]
  },
  {
   "cell_type": "code",
   "execution_count": 34,
   "metadata": {},
   "outputs": [
    {
     "data": {
      "text/plain": [
       "{'symbol': 'LUNAUSDT',\n",
       " 'origClientOrderId': '8Pu9K6weScKQPTzx3xMOOY',\n",
       " 'orderId': 1602345537,\n",
       " 'orderListId': -1,\n",
       " 'clientOrderId': 'UZs1HQsjCzNJ25rZwznObG',\n",
       " 'price': '80.62000000',\n",
       " 'origQty': '0.13000000',\n",
       " 'executedQty': '0.00000000',\n",
       " 'cummulativeQuoteQty': '0.00000000',\n",
       " 'status': 'CANCELED',\n",
       " 'timeInForce': 'GTC',\n",
       " 'type': 'LIMIT',\n",
       " 'side': 'BUY'}"
      ]
     },
     "execution_count": 34,
     "metadata": {},
     "output_type": "execute_result"
    }
   ],
   "source": [
    "binance_client.cancel_order(symbol = 'LUNAUSDT', orderId = 1602345537)"
   ]
  },
  {
   "cell_type": "code",
   "execution_count": 19,
   "metadata": {},
   "outputs": [
    {
     "data": {
      "text/plain": [
       "2"
      ]
     },
     "execution_count": 19,
     "metadata": {},
     "output_type": "execute_result"
    }
   ],
   "source": [
    "check_decimals(\"CAKEUSDT\", binance_client)"
   ]
  },
  {
   "cell_type": "code",
   "execution_count": 9,
   "metadata": {},
   "outputs": [
    {
     "data": {
      "text/plain": [
       "{'symbol': 'CAKEUSDT',\n",
       " 'status': 'TRADING',\n",
       " 'baseAsset': 'CAKE',\n",
       " 'baseAssetPrecision': 8,\n",
       " 'quoteAsset': 'USDT',\n",
       " 'quotePrecision': 8,\n",
       " 'quoteAssetPrecision': 8,\n",
       " 'baseCommissionPrecision': 8,\n",
       " 'quoteCommissionPrecision': 8,\n",
       " 'orderTypes': ['LIMIT',\n",
       "  'LIMIT_MAKER',\n",
       "  'MARKET',\n",
       "  'STOP_LOSS_LIMIT',\n",
       "  'TAKE_PROFIT_LIMIT'],\n",
       " 'icebergAllowed': True,\n",
       " 'ocoAllowed': True,\n",
       " 'quoteOrderQtyMarketAllowed': True,\n",
       " 'allowTrailingStop': True,\n",
       " 'isSpotTradingAllowed': True,\n",
       " 'isMarginTradingAllowed': True,\n",
       " 'filters': [{'filterType': 'PRICE_FILTER',\n",
       "   'minPrice': '0.01000000',\n",
       "   'maxPrice': '10000.00000000',\n",
       "   'tickSize': '0.01000000'},\n",
       "  {'filterType': 'PERCENT_PRICE',\n",
       "   'multiplierUp': '5',\n",
       "   'multiplierDown': '0.2',\n",
       "   'avgPriceMins': 5},\n",
       "  {'filterType': 'LOT_SIZE',\n",
       "   'minQty': '0.01000000',\n",
       "   'maxQty': '90000.00000000',\n",
       "   'stepSize': '0.01000000'},\n",
       "  {'filterType': 'MIN_NOTIONAL',\n",
       "   'minNotional': '10.00000000',\n",
       "   'applyToMarket': True,\n",
       "   'avgPriceMins': 5},\n",
       "  {'filterType': 'ICEBERG_PARTS', 'limit': 10},\n",
       "  {'filterType': 'MARKET_LOT_SIZE',\n",
       "   'minQty': '0.00000000',\n",
       "   'maxQty': '120900.81499652',\n",
       "   'stepSize': '0.00000000'},\n",
       "  {'filterType': 'TRAILING_DELTA',\n",
       "   'minTrailingAboveDelta': 10,\n",
       "   'maxTrailingAboveDelta': 2000,\n",
       "   'minTrailingBelowDelta': 10,\n",
       "   'maxTrailingBelowDelta': 2000},\n",
       "  {'filterType': 'MAX_NUM_ORDERS', 'maxNumOrders': 200},\n",
       "  {'filterType': 'MAX_NUM_ALGO_ORDERS', 'maxNumAlgoOrders': 5}],\n",
       " 'permissions': ['SPOT', 'MARGIN']}"
      ]
     },
     "execution_count": 9,
     "metadata": {},
     "output_type": "execute_result"
    }
   ],
   "source": [
    "binance_client.get_symbol_info(\"CAKEUSDT\")"
   ]
  }
 ],
 "metadata": {
  "interpreter": {
   "hash": "ed225720166559e7176d3793db16a2fd8d295f725007103b21ac3099d2a89ee8"
  },
  "kernelspec": {
   "display_name": "Python 3.9.7 ('base')",
   "language": "python",
   "name": "python3"
  },
  "language_info": {
   "codemirror_mode": {
    "name": "ipython",
    "version": 3
   },
   "file_extension": ".py",
   "mimetype": "text/x-python",
   "name": "python",
   "nbconvert_exporter": "python",
   "pygments_lexer": "ipython3",
   "version": "3.9.7"
  },
  "orig_nbformat": 4
 },
 "nbformat": 4,
 "nbformat_minor": 2
}
